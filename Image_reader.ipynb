{
 "cells": [
  {
   "cell_type": "code",
   "execution_count": 1,
   "id": "156f1fe2",
   "metadata": {},
   "outputs": [],
   "source": [
    "import cv2"
   ]
  },
  {
   "cell_type": "code",
   "execution_count": null,
   "id": "1831779a",
   "metadata": {},
   "outputs": [],
   "source": [
    "def imagereader(args):\n",
    "    \"\"\"\n",
    "    function that is to take images and converts them into readable data\n",
    "    args: data set, or data set value, not sure yet (depends on what our dataset ends up looking like)\n",
    "\n",
    "    \"\"\"\n",
    "    img = cv2.imread(str(args)) #throws image into a variable\n",
    "    \n",
    "\n",
    "\n",
    "    return img"
   ]
  },
  {
   "cell_type": "code",
   "execution_count": null,
   "id": "2b411d8c",
   "metadata": {},
   "outputs": [],
   "source": [
    "def converter(img):\n",
    "    \"\"\"\n",
    "    function that will take the image from above and turn it into something else (haven't decided yet)\n",
    "    could be B/W or RGB color scale and then we could take values from it \n",
    "\n",
    "    or this file could turn it into a heat map and read it like the Day20_IC_STUDENTS_ML2 (1).ipynb file\n",
    "    on git\n",
    "\n",
    "    or we could do something like line strokes or something like that\n",
    "\n",
    "\n",
    "    I THINK THIS FUNCTION WILL USE SOMETHING LIKE PYTORCH, SCIKIT-LEARN\n",
    "    I NOT 100% SURE IF THIS SHOULD EVEN BE A FUNCTION, we really haven't learned like where the ML \n",
    "    algorithm is stored \n",
    "    \n",
    "    \"\"\"\n",
    "\n",
    "\n",
    "\n",
    "    return"
   ]
  }
 ],
 "metadata": {
  "kernelspec": {
   "display_name": "Python 3 (ipykernel)",
   "language": "python",
   "name": "python3"
  },
  "language_info": {
   "codemirror_mode": {
    "name": "ipython",
    "version": 3
   },
   "file_extension": ".py",
   "mimetype": "text/x-python",
   "name": "python",
   "nbconvert_exporter": "python",
   "pygments_lexer": "ipython3",
   "version": "3.9.13"
  }
 },
 "nbformat": 4,
 "nbformat_minor": 5
}
